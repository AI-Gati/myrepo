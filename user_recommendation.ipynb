{
  "nbformat": 4,
  "nbformat_minor": 0,
  "metadata": {
    "colab": {
      "provenance": []
    },
    "kernelspec": {
      "name": "python3",
      "display_name": "Python 3"
    },
    "language_info": {
      "name": "python"
    }
  },
  "cells": [
    {
      "cell_type": "code",
      "execution_count": null,
      "metadata": {
        "id": "lyz2z1v6QYt4"
      },
      "outputs": [],
      "source": [
        "import pandas as pd\n",
        "import joblib\n",
        "from sklearn.feature_extraction.text import TfidfVectorizer\n",
        "from sklearn.metrics.pairwise import cosine_similarity\n",
        "\n",
        "# Load the user dataset\n",
        "df_users = pd.read_csv(\"sample_users_with_tags.csv\")\n",
        "\n",
        "# Create a text-based profile for each user by combining relevant fields\n",
        "df_users['profile_text'] = df_users.apply(lambda row: ' '.join(row['likedTags']), axis=1)\n",
        "\n",
        "# Convert text profiles to numerical vectors\n",
        "vectorizer = TfidfVectorizer()\n",
        "profile_matrix = vectorizer.fit_transform(df_users['profile_text'])\n",
        "\n",
        "# Compute similarity scores between users\n",
        "similarity_matrix = cosine_similarity(profile_matrix)\n",
        "\n",
        "# Save the model\n",
        "joblib.dump((vectorizer, similarity_matrix, df_users), \"user_follow_recommendation_model.pkl\")\n",
        "print(\"Model saved successfully!\")\n",
        "\n",
        "def recommend_users(user_guid, top_n=5):\n",
        "    if user_guid not in df_users['guid'].values:\n",
        "        return f\"User {user_guid} not found in the dataset.\"\n",
        "\n",
        "    # Get index of the user\n",
        "    user_idx = df_users[df_users['guid'] == user_guid].index[0]\n",
        "\n",
        "    # Get similarity scores for this user\n",
        "    sim_scores = list(enumerate(similarity_matrix[user_idx]))\n",
        "\n",
        "    # Sort users by similarity score (excluding the user itself)\n",
        "    sim_scores = sorted(sim_scores, key=lambda x: x[1], reverse=True)[1:]\n",
        "\n",
        "    # Get top N similar users\n",
        "    top_users = [df_users.iloc[i[0]]['guid'] for i in sim_scores[:top_n]]\n",
        "    return top_users\n",
        "\n",
        "# Example usage\n",
        "sample_user = df_users.iloc[0]['guid']\n",
        "print(f\"Recommended users to follow for {sample_user}: {recommend_users(sample_user)}\")\n"
      ]
    }
  ]
}