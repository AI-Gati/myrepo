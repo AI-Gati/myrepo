{
 "cells": [
  {
   "cell_type": "code",
   "execution_count": null,
   "id": "8d64c015",
   "metadata": {},
   "outputs": [],
   "source": [
    "\n",
    "import pandas as pd\n",
    "import numpy as np\n",
    "import joblib\n",
    "from sklearn.feature_extraction.text import TfidfVectorizer\n",
    "from sklearn.metrics.pairwise import cosine_similarity\n",
    "\n",
    "# Load the sample data\n",
    "file_path = \"sample_user_profiles.json\"\n",
    "df = pd.read_json(file_path)\n"
   ]
  },
  {
   "cell_type": "code",
   "execution_count": null,
   "id": "48c5534f",
   "metadata": {},
   "outputs": [],
   "source": [
    "\n",
    "# Convert user expertise into a text format for vectorization\n",
    "def preprocess_expertise(row):\n",
    "    expertise = row['resume']['expertise']\n",
    "    text = \" \".join(\n",
    "        expertise.get('assetClasses', []) +\n",
    "        expertise.get('products', []) +\n",
    "        expertise.get('sectors', []) +\n",
    "        expertise.get('regions', [])\n",
    "    )\n",
    "    return text\n",
    "\n",
    "df['expertise_text'] = df.apply(preprocess_expertise, axis=1)\n"
   ]
  },
  {
   "cell_type": "code",
   "execution_count": null,
   "id": "f971c39d",
   "metadata": {},
   "outputs": [],
   "source": [
    "\n",
    "# Convert liked tags into a text format\n",
    "df['tags_liked_text'] = df['tagsLiked'].apply(lambda x: \" \".join(x))\n",
    "\n",
    "# Combine all textual features for recommendation\n",
    "df['profile_text'] = df['expertise_text'] + \" \" + df['tags_liked_text']\n"
   ]
  },
  {
   "cell_type": "code",
   "execution_count": null,
   "id": "846ddcf4",
   "metadata": {},
   "outputs": [],
   "source": [
    "\n",
    "# TF-IDF Vectorization\n",
    "vectorizer = TfidfVectorizer()\n",
    "profile_matrix = vectorizer.fit_transform(df['profile_text'])\n",
    "\n",
    "# Compute similarity scores\n",
    "similarity_matrix = cosine_similarity(profile_matrix)\n",
    "\n",
    "# Save the model\n",
    "joblib.dump((vectorizer, similarity_matrix, df), \"user_recommendation_model.pkl\")\n",
    "\n",
    "print(\"Model saved successfully!\")\n"
   ]
  }
 ],
 "metadata": {},
 "nbformat": 4,
 "nbformat_minor": 5
}